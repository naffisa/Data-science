week 2 tasks.ipynp
def function(inp_price,inp_value):
print("price", value * 0.9)
print("and one year after that the price will be")
price = int(input('what is the price of the bike?'))
value = int(input("How much will it cost next year and every year after?"))

while value > 1000:
function(price, value)
value = value * 0.9

#user name
num = int(input("enter first number:"))
if num1 > 10:
print ('Number is Greater than 10')

else:
print('Number is smaller than 10)

#Then write a loop program that ask the user for an integer

number and check if it is < 10.
If it is < 10
then it keeps adding 1 to the value.
number = int(input('Enter number'))
while number < 10:
print(number + 1)
